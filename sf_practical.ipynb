{
  "nbformat": 4,
  "nbformat_minor": 0,
  "metadata": {
    "colab": {
      "name": "sf practical.ipynb",
      "provenance": []
    },
    "kernelspec": {
      "name": "python3",
      "display_name": "Python 3"
    },
    "language_info": {
      "name": "python"
    }
  },
  "cells": [
    {
      "cell_type": "markdown",
      "source": [
        "28.\tImplement various LRU cache/page replacement policy"
      ],
      "metadata": {
        "id": "GLry3tOUJOdE"
      }
    },
    {
      "cell_type": "code",
      "execution_count": 3,
      "metadata": {
        "id": "MDB4siIJJMEF",
        "colab": {
          "base_uri": "https://localhost:8080/"
        },
        "outputId": "47287faa-9d1b-40a5-f301-e21ad15f2600"
      },
      "outputs": [
        {
          "output_type": "stream",
          "name": "stdout",
          "text": [
            "Enter the number of page references you want :13\n",
            "Enter page reference1 : 7\n",
            "Enter page reference2 : 0\n",
            "Enter page reference3 : 1\n",
            "Enter page reference4 : 2\n",
            "Enter page reference5 : 0\n",
            "Enter page reference6 : 3\n",
            "Enter page reference7 : 0\n",
            "Enter page reference8 : 4\n",
            "Enter page reference9 : 2\n",
            "Enter page reference10 : 3\n",
            "Enter page reference11 : 0\n",
            "Enter page reference12 : 3\n",
            "Enter page reference13 : 2\n",
            "Enter number of page frames :4\n",
            "8\n"
          ]
        }
      ],
      "source": [
        "import numpy as np\n",
        "l = []\n",
        "references = int(input(\"Enter the number of page references you want :\"))\n",
        "for i in range(references):\n",
        "  a = int(input(f\"Enter page reference{i+1} : \"))\n",
        "  l.append(a)\n",
        "\n",
        "mem_len = int(input(\"Enter number of page frames :\"))\n",
        "hits = 0\n",
        "counter = 0\n",
        "memory = l[0:mem_len]\n",
        "l = l[mem_len:]\n",
        "\n",
        "list_check = [0 for _ in range(mem_len)]\n",
        "\n",
        "for j in l:\n",
        "  if(j in memory):\n",
        "    hits = hits + 1\n",
        "    list_check[memory.index(j)] = 0\n",
        "    continue\n",
        "  max_index = np.argmax(list_check)\n",
        "  for i in range(len(list_check)):\n",
        "    if(i == max_index):\n",
        "      list_check[i] = 0\n",
        "    else:\n",
        "      list_check[i] = list_check[i] + 1\n",
        "  memory[max_index] = j\n",
        "\n",
        "page_faults = references-hits\n",
        "print(page_faults)"
      ]
    },
    {
      "cell_type": "markdown",
      "source": [
        "29.\tImplement various optimal cache/page replacement policy"
      ],
      "metadata": {
        "id": "O-qwk9WZQxf6"
      }
    },
    {
      "cell_type": "code",
      "source": [
        "\n",
        "print(\"Enter the number of frames: \",end=\"\")\n",
        "capacity = int(input())\n",
        "f,fault,pf = [],0,'No'\n",
        "print(\"Enter the reference string: \",end=\"\")\n",
        "s = list(map(int,input().strip().split()))\n",
        "print(\"\\nString|Frame →\\t\",end='')\n",
        "for i in range(capacity):\n",
        "    print(i,end=' ')\n",
        "print(\"Fault\\n   ↓\\n\")\n",
        "occurance = [None for i in range(capacity)]\n",
        "for i in range(len(s)):\n",
        "    if s[i] not in f:\n",
        "        if len(f)<capacity:\n",
        "            f.append(s[i])\n",
        "        else:\n",
        "            for x in range(len(f)):\n",
        "                if f[x] not in s[i+1:]:\n",
        "                    f[x] = s[i]\n",
        "                    break\n",
        "                else:\n",
        "                    occurance[x] = s[i+1:].index(f[x])\n",
        "            else:\n",
        "                f[occurance.index(max(occurance))] = s[i]\n",
        "        fault += 1\n",
        "        pf = 'Yes'\n",
        "    else:\n",
        "        pf = 'No'\n",
        "    print(\"   %d\\t\\t\"%s[i],end='')\n",
        "    for x in f:\n",
        "        print(x,end=' ')\n",
        "    for x in range(capacity-len(f)):\n",
        "        print(' ',end=' ')\n",
        "    print(\" %s\"%pf)\n",
        "print(\"\\nTotal requests: %d\\nTotal Page Faults: %d\\nFault Rate: %0.2f%%\"%(len(s),fault,(fault/len(s))*100))"
      ],
      "metadata": {
        "id": "HH2z93L9QwN9"
      },
      "execution_count": null,
      "outputs": []
    },
    {
      "cell_type": "markdown",
      "source": [
        "30.\tImplement various FIFO cache/page replacement policy"
      ],
      "metadata": {
        "id": "1Q2LwPPmaKVC"
      }
    },
    {
      "cell_type": "code",
      "source": [
        "l = []\n",
        "references = int(input(\"Enter the no of page references you want :\"))\n",
        "for i in range(references):\n",
        "  a = int(input(f\"Enter page reference{i+1} :\"))\n",
        "  l.append(a)\n",
        "\n",
        "mem_len = int(input(\"Enter the number of page frames :\"))\n",
        "hits = 0\n",
        "counter = 0\n",
        "memory = l[0:mem_len]\n",
        "l = l[mem_len:]\n",
        "\n",
        "for j in l:\n",
        "  if(j in memory):\n",
        "    hits = hits + 1\n",
        "    continue\n",
        "  memory[counter] = j\n",
        "  counter = (counter + 1)%mem_len\n",
        "\n",
        "hit_ratio = hits/references\n",
        "\n",
        "print(f\"The hit ratio is {hit_ratio}.\")"
      ],
      "metadata": {
        "colab": {
          "base_uri": "https://localhost:8080/"
        },
        "id": "mMROu_jXaRfF",
        "outputId": "8b6ba0fd-e249-4e2a-de75-5864461a919d"
      },
      "execution_count": 4,
      "outputs": [
        {
          "output_type": "stream",
          "name": "stdout",
          "text": [
            "Enter the no of page references you want :6\n",
            "Enter page reference1 :1\n",
            "Enter page reference2 :3\n",
            "Enter page reference3 :0\n",
            "Enter page reference4 :3\n",
            "Enter page reference5 :5\n",
            "Enter page reference6 :6\n",
            "Enter the number of page frames :3\n",
            "The hit ratio is 0.16666666666666666.\n"
          ]
        }
      ]
    },
    {
      "cell_type": "markdown",
      "source": [
        "31.\tImplement FCFS CPU scheduling algorithm."
      ],
      "metadata": {
        "id": "BvE3VyF6eTEf"
      }
    },
    {
      "cell_type": "code",
      "source": [
        "class FCFS:\n",
        "  def processData(self, no_of_processes):\n",
        "    process_data = []\n",
        "    for i in range(no_of_processes):\n",
        "      temporary = []\n",
        "      process_id = int(input(\"Enter process ID: \"))\n",
        "\n",
        "      arrival_time = int(input(\"Enter Arrival Time: \"))\n",
        "\n",
        "      burst_time = int(input(f\"Enter burst time for Process {process_id}:\"))\n",
        "\n",
        "      temporary.extend([process_id, arrival_time, burst_time])\n",
        "      process_data.append(temporary)\n",
        "    FCFS.schedulingProcess(self, process_data)\n",
        "\n",
        "  def schedulingProcess(self, process_data):\n",
        "    process_data.sort(key=lambda x: x[1])\n",
        "    start_time = []\n",
        "    exit_time = []\n",
        "    s_time = 0\n",
        "    for i in range(len(process_data)):\n",
        "      if s_time < process_data[i][1]:\n",
        "        s_time = process_data[i][1]\n",
        "      start_time.append(s_time)\n",
        "      s_time = s_time + process_data[i][2]\n",
        "      e_time = s_time\n",
        "      exit_time.append(e_time)\n",
        "      process_data[i].append(e_time)\n",
        "    t_time = FCFS.calculateTurnaroundTime(self, process_data)\n",
        "    w_time = FCFS.calculateWaitingTime(self, process_data)\n",
        "    FCFS.printData(self, process_data, t_time, w_time)\n",
        "\n",
        "  def calculateTurnaroundTime(self, process_data):\n",
        "    total_turnaround_time = 0\n",
        "    for i in range(len(process_data)):\n",
        "      turnaround_time = process_data[i][3] - process_data[i][1]\n",
        "      total_turnaround_time = total_turnaround_time + turnaround_time\n",
        "      process_data[i].append(turnaround_time)\n",
        "    average_turnaround_time = total_turnaround_time / len(process_data)\n",
        "    return average_turnaround_time\n",
        "\n",
        "  def calculateWaitingTime(self, process_data):\n",
        "    total_waiting_time = 0 \n",
        "    for i in range(len(process_data)):\n",
        "      waiting_time = process_data[i][4] - process_data[i][2]\n",
        "      total_waiting_time = total_waiting_time + waiting_time\n",
        "      process_data[i].append(waiting_time)\n",
        "    average_waiting_time = total_waiting_time / len(process_data)\n",
        "    return average_waiting_time\n",
        "\n",
        "  def printData(self, process_data, average_turnaround_time, average_waiting_time):\n",
        "    print(\"Process_ID  Arrival_Time  Burst_Time  Completion_Time  Turnaround_Time  Waiting_Time\")\n",
        "    for i in range(len(process_data)):\n",
        "      for j in range(len(process_data[i])):\n",
        "        print(process_data[i][j], end=\"       \")\n",
        "      print()\n",
        "    print(f\"Average Turnaround Time : {average_turnaround_time}\")\n",
        "    print(f\"Average Waiting Time: {average_waiting_time}\")\n",
        "\n",
        "no_of_processes = int(input(\"Enter number of processes: \"))\n",
        "fcfs = FCFS()\n",
        "fcfs.processData(no_of_processes)"
      ],
      "metadata": {
        "colab": {
          "base_uri": "https://localhost:8080/"
        },
        "id": "W5l2Te2AuGbO",
        "outputId": "9fe56c05-9a33-4d57-9171-edd6bf24934c"
      },
      "execution_count": 4,
      "outputs": [
        {
          "output_type": "stream",
          "name": "stdout",
          "text": [
            "Enter number of processes: 3\n",
            "Enter process ID: 1\n",
            "Enter Arrival Time: 0\n",
            "Enter burst time for Process 1:27\n",
            "Enter process ID: 2\n",
            "Enter Arrival Time: 1\n",
            "Enter burst time for Process 2:3\n",
            "Enter process ID: 3\n",
            "Enter Arrival Time: 2\n",
            "Enter burst time for Process 3:4\n",
            "Process_ID  Arrival_Time  Burst_Time  Completion_Time  Turnaround_Time  Waiting_Time\n",
            "1       0       27       27       27       0       \n",
            "2       1       3       30       29       26       \n",
            "3       2       4       34       32       28       \n",
            "Average Turnaround Time : 29.333333333333332\n",
            "Average Waiting Time: 18.0\n"
          ]
        }
      ]
    },
    {
      "cell_type": "markdown",
      "source": [
        "32.\tImplement SJF CPU scheduling algorithm."
      ],
      "metadata": {
        "id": "ZL1el-zp58Ns"
      }
    },
    {
      "cell_type": "code",
      "source": [
        "class SJF:\n",
        "  def processData(self, no_of_processes):\n",
        "    process_data = []\n",
        "    for i in range(no_of_processes):\n",
        "      temporary = []\n",
        "      process_id = int(input(\"Enter Process ID: \"))\n",
        "      arrival_time = int(input(f\"Enter Arrival Time for Process {process_id}:\"))\n",
        "      burst_time = int(input(f\"Enter Burst Time for Process {process_id}:\"))\n",
        "      temporary.extend([process_id, arrival_time, burst_time, 0])\n",
        "      process_data.append(temporary)\n",
        "    SJF.schedulingProcess(self, process_data)\n",
        "\n",
        "  def schedulingProcess(self, process_data):\n",
        "    start_time = []\n",
        "    exit_time = []\n",
        "    s_time = 0\n",
        "    process_data.sort(key=lambda x: x[1])\n",
        "    for i in range(len(process_data)):\n",
        "      ready_queue = []\n",
        "      temp = []\n",
        "      normal_queue = []\n",
        "      for j in range(len(process_data)):\n",
        "        if (process_data[j][1] <= s_time) and (process_data[j][3] == 0):\n",
        "          temp.extend([process_data[j][0], process_data[j][1], process_data[j][2]])\n",
        "          ready_queue.append(temp)\n",
        "          temp = []\n",
        "        elif process_data[j][3] == 0:\n",
        "          temp.extend([process_data[j][0], process_data[j][1], process_data[j][2]])\n",
        "          normal_queue.append(temp)\n",
        "          temp = []\n",
        "      if len(ready_queue) != 0:\n",
        "        ready_queue.sort(key=lambda x: x[2])\n",
        "        s_time = s_time + ready_queue[0][2]\n",
        "        e_time = s_time\n",
        "        exit_time.append(e_time)\n",
        "        for k in range(len(process_data)):\n",
        "          if process_data[k][0] == ready_queue[0][0]:\n",
        "            break\n",
        "        process_data[k][3] = 1\n",
        "        process_data[k].append(e_time)\n",
        "      elif len(ready_queue) == 0:\n",
        "        if s_time < normal_queue[0][1]:\n",
        "          s_time < normal_queue[0][1]\n",
        "        start_time.append(s_time)\n",
        "        s_time = s_time + normal_queue[0][2]\n",
        "        e_time = s_time\n",
        "        exit_time.append(e_time)\n",
        "        for k in range(len(process_data)):\n",
        "          if process_data[k][0] == normal_queue[0][0]:\n",
        "            break\n",
        "        process_data[k][3] = 1\n",
        "        process_data[k].append(e_time)\n",
        "    t_time = SJF.calculateTurnaroundTime(self, process_data)\n",
        "    w_time = SJF.calculateWaitingTime(self, process_data)\n",
        "    SJF.printData(self, process_data, t_time, w_time)\n",
        "\n",
        "  def calculateTurnaroundTime(self, process_data):\n",
        "    total_turnaround_time = 0\n",
        "    for i in range(len(process_data)):\n",
        "      turnaround_time = process_data[i][4] - process_data[i][1]\n",
        "      total_turnaround_time = total_turnaround_time + turnaround_time\n",
        "      process_data[i].append(turnaround_time)\n",
        "    average_turnaround_time = total_turnaround_time / len(process_data)\n",
        "    return average_turnaround_time\n",
        "\n",
        "  def calculateWaitingTime(self, process_data):\n",
        "    total_waiting_time = 0\n",
        "    for i in range(len(process_data)):\n",
        "      waiting_time = process_data[i][5] - process_data[i][2]\n",
        "      total_waiting_time = total_waiting_time + waiting_time\n",
        "      process_data[i].append(waiting_time)\n",
        "    average_waiting_time = total_waiting_time / len(process_data)\n",
        "    return average_waiting_time\n",
        "\n",
        "  def printData(self, process_data, average_turnaround_time, average_waiting_time):\n",
        "    process_data.sort(key=lambda x: x[0])\n",
        "    print(f\"Average Turnaround Time : {average_turnaround_time}\")\n",
        "    print(f\"Average Waiting Time: {average_waiting_time}\")\n",
        "\n",
        "no_of_processes = int(input(\"Enter number of processes: \"))\n",
        "sjf = SJF()\n",
        "sjf.processData(no_of_processes)\n",
        "    \n",
        "\n",
        "      \n",
        "\n",
        "\n"
      ],
      "metadata": {
        "colab": {
          "base_uri": "https://localhost:8080/"
        },
        "id": "eeMiSUUa6AbI",
        "outputId": "567e989f-2a46-4410-a3b7-4ad2952ed2a2"
      },
      "execution_count": 7,
      "outputs": [
        {
          "output_type": "stream",
          "name": "stdout",
          "text": [
            "Enter number of processes: 3\n",
            "Enter Process ID: 1\n",
            "Enter Arrival Time for Process 1:0\n",
            "Enter Burst Time for Process 1:27\n",
            "Enter Process ID: 2\n",
            "Enter Arrival Time for Process 2:0\n",
            "Enter Burst Time for Process 2:4\n",
            "Enter Process ID: 3\n",
            "Enter Arrival Time for Process 3:1\n",
            "Enter Burst Time for Process 3:3\n",
            "Average Turnaround Time : 14.666666666666666\n",
            "Average Waiting Time: 3.3333333333333335\n"
          ]
        }
      ]
    },
    {
      "cell_type": "markdown",
      "source": [
        "33.\tImplement Non Prremptive Priority CPU scheduling algorithm."
      ],
      "metadata": {
        "id": "FxRGV4VBS5fR"
      }
    },
    {
      "cell_type": "code",
      "source": [
        "class Priority:\n",
        "  def processData(self, no_of_processes):\n",
        "    process_data = []\n",
        "    for i in range(no_of_processes):\n",
        "      temporary = []\n",
        "      process_id = int(input(\"Enter Process ID: \"))\n",
        "      burst_time = int(input(f\"Enter Burst Time for Process {process_id}:\"))\n",
        "      priority = int(input(f\"Enter Priority for Process {process_id}:\"))\n",
        "      temporary.extend([process_id, 0, burst_time, priority])\n",
        "      process_data.append(temporary)\n",
        "    Priority.schedulingProcess(self, process_data)\n",
        "\n",
        "  def schedulingProcess(self, process_data):\n",
        "    process_data.sort(key=lambda x: x[3], reverse=True)\n",
        "    start_time = []\n",
        "    exit_time = []\n",
        "    s_time = 0\n",
        "    for i in range(len(process_data)):\n",
        "      start_time.append(s_time)\n",
        "      s_time = s_time + process_data[i][2]\n",
        "      e_time = s_time\n",
        "      exit_time.append(e_time)\n",
        "      process_data[i].append(e_time)\n",
        "    t_time = Priority.calculateTurnaroundTime(self, process_data)\n",
        "    w_time = Priority.calculateWaitingTime(self, process_data)\n",
        "    Priority.printData(self, process_data, t_time, w_time)\n",
        " \n",
        "    def calculateTurnaroundTime(self, process_data):\n",
        "        total_turnaround_time = 0\n",
        "        for i in range(len(process_data)):\n",
        "            turnaround_time = process_data[i][4] - process_data[i][1]\n",
        "            total_turnaround_time = total_turnaround_time + turnaround_time\n",
        "            process_data[i].append(turnaround_time)\n",
        "        average_turnaround_time = total_turnaround_time / len(process_data)\n",
        "        return average_turnaround_time\n",
        " \n",
        "    def calculateWaitingTime(self, process_data):\n",
        "        total_waiting_time = 0\n",
        "        for i in range(len(process_data)):\n",
        "            waiting_time = process_data[i][5] - process_data[i][2]\n",
        "            total_waiting_time = total_waiting_time + waiting_time\n",
        "            process_data[i].append(waiting_time)\n",
        "        average_waiting_time = total_waiting_time / len(process_data)\n",
        "        return average_waiting_time\n",
        "        \n",
        "        def printData(self, process_data, average_turnaround_time, average_waiting_time):\n",
        "          process_data.sort(key=lambda x: x[0])\n",
        "          print(f\"Average Turnaround Time: {average_turnaround_time}\")\n",
        "          print(f\"Average Waiting Time: {average_waiting_time}\")\n",
        " \n",
        "no_of_processes = int(input(\"Enter number of processes: \"))\n",
        "priority = Priority()\n",
        "priority.processData(no_of_processes)\n",
        "\n"
      ],
      "metadata": {
        "colab": {
          "base_uri": "https://localhost:8080/",
          "height": 560
        },
        "id": "18cjPKOqTES7",
        "outputId": "6a828bf4-c022-451d-f6a7-7f594cda921f"
      },
      "execution_count": 11,
      "outputs": [
        {
          "name": "stdout",
          "output_type": "stream",
          "text": [
            "Enter number of processes: 3\n",
            "Enter Process ID: 1\n",
            "Enter Burst Time for Process 1:3\n",
            "Enter Priority for Process 1:2\n",
            "Enter Process ID: 2\n",
            "Enter Burst Time for Process 2:9\n",
            "Enter Priority for Process 2:3\n",
            "Enter Process ID: 3\n",
            "Enter Burst Time for Process 3:5\n",
            "Enter Priority for Process 3:1\n"
          ]
        },
        {
          "output_type": "error",
          "ename": "AttributeError",
          "evalue": "ignored",
          "traceback": [
            "\u001b[0;31m---------------------------------------------------------------------------\u001b[0m",
            "\u001b[0;31mAttributeError\u001b[0m                            Traceback (most recent call last)",
            "\u001b[0;32m<ipython-input-11-f1ae6fc5d191>\u001b[0m in \u001b[0;36m<module>\u001b[0;34m()\u001b[0m\n\u001b[1;32m     51\u001b[0m \u001b[0mno_of_processes\u001b[0m \u001b[0;34m=\u001b[0m \u001b[0mint\u001b[0m\u001b[0;34m(\u001b[0m\u001b[0minput\u001b[0m\u001b[0;34m(\u001b[0m\u001b[0;34m\"Enter number of processes: \"\u001b[0m\u001b[0;34m)\u001b[0m\u001b[0;34m)\u001b[0m\u001b[0;34m\u001b[0m\u001b[0;34m\u001b[0m\u001b[0m\n\u001b[1;32m     52\u001b[0m \u001b[0mpriority\u001b[0m \u001b[0;34m=\u001b[0m \u001b[0mPriority\u001b[0m\u001b[0;34m(\u001b[0m\u001b[0;34m)\u001b[0m\u001b[0;34m\u001b[0m\u001b[0;34m\u001b[0m\u001b[0m\n\u001b[0;32m---> 53\u001b[0;31m \u001b[0mpriority\u001b[0m\u001b[0;34m.\u001b[0m\u001b[0mprocessData\u001b[0m\u001b[0;34m(\u001b[0m\u001b[0mno_of_processes\u001b[0m\u001b[0;34m)\u001b[0m\u001b[0;34m\u001b[0m\u001b[0;34m\u001b[0m\u001b[0m\n\u001b[0m\u001b[1;32m     54\u001b[0m \u001b[0;34m\u001b[0m\u001b[0m\n",
            "\u001b[0;32m<ipython-input-11-f1ae6fc5d191>\u001b[0m in \u001b[0;36mprocessData\u001b[0;34m(self, no_of_processes)\u001b[0m\n\u001b[1;32m      9\u001b[0m       \u001b[0mtemporary\u001b[0m\u001b[0;34m.\u001b[0m\u001b[0mextend\u001b[0m\u001b[0;34m(\u001b[0m\u001b[0;34m[\u001b[0m\u001b[0mprocess_id\u001b[0m\u001b[0;34m,\u001b[0m \u001b[0;36m0\u001b[0m\u001b[0;34m,\u001b[0m \u001b[0mburst_time\u001b[0m\u001b[0;34m,\u001b[0m \u001b[0mpriority\u001b[0m\u001b[0;34m]\u001b[0m\u001b[0;34m)\u001b[0m\u001b[0;34m\u001b[0m\u001b[0;34m\u001b[0m\u001b[0m\n\u001b[1;32m     10\u001b[0m       \u001b[0mprocess_data\u001b[0m\u001b[0;34m.\u001b[0m\u001b[0mappend\u001b[0m\u001b[0;34m(\u001b[0m\u001b[0mtemporary\u001b[0m\u001b[0;34m)\u001b[0m\u001b[0;34m\u001b[0m\u001b[0;34m\u001b[0m\u001b[0m\n\u001b[0;32m---> 11\u001b[0;31m     \u001b[0mPriority\u001b[0m\u001b[0;34m.\u001b[0m\u001b[0mschedulingProcess\u001b[0m\u001b[0;34m(\u001b[0m\u001b[0mself\u001b[0m\u001b[0;34m,\u001b[0m \u001b[0mprocess_data\u001b[0m\u001b[0;34m)\u001b[0m\u001b[0;34m\u001b[0m\u001b[0;34m\u001b[0m\u001b[0m\n\u001b[0m\u001b[1;32m     12\u001b[0m \u001b[0;34m\u001b[0m\u001b[0m\n\u001b[1;32m     13\u001b[0m   \u001b[0;32mdef\u001b[0m \u001b[0mschedulingProcess\u001b[0m\u001b[0;34m(\u001b[0m\u001b[0mself\u001b[0m\u001b[0;34m,\u001b[0m \u001b[0mprocess_data\u001b[0m\u001b[0;34m)\u001b[0m\u001b[0;34m:\u001b[0m\u001b[0;34m\u001b[0m\u001b[0;34m\u001b[0m\u001b[0m\n",
            "\u001b[0;32m<ipython-input-11-f1ae6fc5d191>\u001b[0m in \u001b[0;36mschedulingProcess\u001b[0;34m(self, process_data)\u001b[0m\n\u001b[1;32m     22\u001b[0m       \u001b[0mexit_time\u001b[0m\u001b[0;34m.\u001b[0m\u001b[0mappend\u001b[0m\u001b[0;34m(\u001b[0m\u001b[0me_time\u001b[0m\u001b[0;34m)\u001b[0m\u001b[0;34m\u001b[0m\u001b[0;34m\u001b[0m\u001b[0m\n\u001b[1;32m     23\u001b[0m       \u001b[0mprocess_data\u001b[0m\u001b[0;34m[\u001b[0m\u001b[0mi\u001b[0m\u001b[0;34m]\u001b[0m\u001b[0;34m.\u001b[0m\u001b[0mappend\u001b[0m\u001b[0;34m(\u001b[0m\u001b[0me_time\u001b[0m\u001b[0;34m)\u001b[0m\u001b[0;34m\u001b[0m\u001b[0;34m\u001b[0m\u001b[0m\n\u001b[0;32m---> 24\u001b[0;31m     \u001b[0mt_time\u001b[0m \u001b[0;34m=\u001b[0m \u001b[0mPriority\u001b[0m\u001b[0;34m.\u001b[0m\u001b[0mcalculateTurnaroundTime\u001b[0m\u001b[0;34m(\u001b[0m\u001b[0mself\u001b[0m\u001b[0;34m,\u001b[0m \u001b[0mprocess_data\u001b[0m\u001b[0;34m)\u001b[0m\u001b[0;34m\u001b[0m\u001b[0;34m\u001b[0m\u001b[0m\n\u001b[0m\u001b[1;32m     25\u001b[0m     \u001b[0mw_time\u001b[0m \u001b[0;34m=\u001b[0m \u001b[0mPriority\u001b[0m\u001b[0;34m.\u001b[0m\u001b[0mcalculateWaitingTime\u001b[0m\u001b[0;34m(\u001b[0m\u001b[0mself\u001b[0m\u001b[0;34m,\u001b[0m \u001b[0mprocess_data\u001b[0m\u001b[0;34m)\u001b[0m\u001b[0;34m\u001b[0m\u001b[0;34m\u001b[0m\u001b[0m\n\u001b[1;32m     26\u001b[0m     \u001b[0mPriority\u001b[0m\u001b[0;34m.\u001b[0m\u001b[0mprintData\u001b[0m\u001b[0;34m(\u001b[0m\u001b[0mself\u001b[0m\u001b[0;34m,\u001b[0m \u001b[0mprocess_data\u001b[0m\u001b[0;34m,\u001b[0m \u001b[0mt_time\u001b[0m\u001b[0;34m,\u001b[0m \u001b[0mw_time\u001b[0m\u001b[0;34m)\u001b[0m\u001b[0;34m\u001b[0m\u001b[0;34m\u001b[0m\u001b[0m\n",
            "\u001b[0;31mAttributeError\u001b[0m: type object 'Priority' has no attribute 'calculateTurnaroundTime'"
          ]
        }
      ]
    },
    {
      "cell_type": "markdown",
      "source": [
        "35.\tImplement SRTF CPU scheduling algorithm."
      ],
      "metadata": {
        "id": "zWNfCb72ZhC3"
      }
    },
    {
      "cell_type": "code",
      "source": [
        "class SJF:\n",
        "    def processData(self, no_of_processes):\n",
        "        process_data = []\n",
        "        for i in range(no_of_processes):\n",
        "            temporary = []\n",
        "            process_id = int(input(\"Enter Process ID: \"))\n",
        "            arrival_time = int(input(f\"Enter Arrival Time for Process {process_id}: \"))\n",
        "            burst_time = int(input(f\"Enter Burst Time for Process {process_id}: \"))\n",
        "            temporary.extend([process_id, arrival_time, burst_time, 0, burst_time])\n",
        "            process_data.append(temporary)\n",
        "        SJF.schedulingProcess(self, process_data)\n",
        "\n",
        "    def schedulingProcess(self, process_data):\n",
        "        start_time = []\n",
        "        exit_time = []\n",
        "        s_time = 0\n",
        "        sequence_of_process = []\n",
        "        process_data.sort(key=lambda x: x[1])\n",
        "        while 1:\n",
        "            ready_queue = []\n",
        "            normal_queue = []\n",
        "            temp = []\n",
        "            for i in range(len(process_data)):\n",
        "                if process_data[i][1] <= s_time and process_data[i][3] == 0:\n",
        "                    temp.extend([process_data[i][0], process_data[i][1], process_data[i][2], process_data[i][4]])\n",
        "                    ready_queue.append(temp)\n",
        "                    temp = []\n",
        "                elif process_data[i][3] == 0:\n",
        "                    temp.extend([process_data[i][0], process_data[i][1], process_data[i][2], process_data[i][4]])\n",
        "                    normal_queue.append(temp)\n",
        "                    temp = []\n",
        "            if len(ready_queue) == 0 and len(normal_queue) == 0:\n",
        "                break\n",
        "            if len(ready_queue) != 0:\n",
        "                ready_queue.sort(key=lambda x: x[2])\n",
        "                start_time.append(s_time)\n",
        "                s_time = s_time + 1\n",
        "                e_time = s_time\n",
        "                exit_time.append(e_time)\n",
        "                sequence_of_process.append(ready_queue[0][0])\n",
        "                for k in range(len(process_data)):\n",
        "                    if process_data[k][0] == ready_queue[0][0]:\n",
        "                        break\n",
        "                process_data[k][2] = process_data[k][2] - 1\n",
        "                if process_data[k][2] == 0:   \n",
        "                    process_data[k][3] = 1\n",
        "                    process_data[k].append(e_time)\n",
        "            if len(ready_queue) == 0:\n",
        "                if s_time < normal_queue[0][1]:\n",
        "                    s_time = normal_queue[0][1]\n",
        "                start_time.append(s_time)\n",
        "                s_time = s_time + 1\n",
        "                e_time = s_time\n",
        "                exit_time.append(e_time)\n",
        "                sequence_of_process.append(normal_queue[0][0])\n",
        "                for k in range(len(process_data)):\n",
        "                    if process_data[k][0] == normal_queue[0][0]:\n",
        "                        break\n",
        "                process_data[k][2] = process_data[k][2] - 1\n",
        "                if process_data[k][2] == 0:\n",
        "                    process_data[k][3] = 1\n",
        "                    process_data[k].append(e_time)\n",
        "        t_time = SJF.calculateTurnaroundTime(self, process_data)\n",
        "        w_time = SJF.calculateWaitingTime(self, process_data)\n",
        "        SJF.printData(self, process_data, t_time, w_time, sequence_of_process)\n",
        "\n",
        "    def calculateTurnaroundTime(self, process_data):\n",
        "        total_turnaround_time = 0\n",
        "        for i in range(len(process_data)):\n",
        "            turnaround_time = process_data[i][5] - process_data[i][1]\n",
        "            total_turnaround_time = total_turnaround_time + turnaround_time\n",
        "            process_data[i].append(turnaround_time)\n",
        "        average_turnaround_time = total_turnaround_time / len(process_data)\n",
        "        return average_turnaround_time\n",
        "\n",
        "    def calculateWaitingTime(self, process_data):\n",
        "        total_waiting_time = 0\n",
        "        for i in range(len(process_data)):\n",
        "            waiting_time = process_data[i][6] - process_data[i][4]\n",
        "            total_waiting_time = total_waiting_time + waiting_time\n",
        "            process_data[i].append(waiting_time)\n",
        "        average_waiting_time = total_waiting_time / len(process_data)\n",
        "        return average_waiting_time\n",
        "\n",
        "    def printData(self, process_data, average_turnaround_time, average_waiting_time, sequence_of_process):\n",
        "        process_data.sort(key=lambda x: x[0])\n",
        "        print(f'Average Turnaround Time: {average_turnaround_time}')\n",
        "        print(f'Average Waiting Time: {average_waiting_time}')\n",
        "        print(f'Sequence of Process: {sequence_of_process}')\n",
        "\n",
        "no_of_processes = int(input(\"Enter number of processes: \"))\n",
        "sjf = SJF()\n",
        "sjf.processData(no_of_processes)"
      ],
      "metadata": {
        "colab": {
          "base_uri": "https://localhost:8080/"
        },
        "id": "LpD_LJyGZJSA",
        "outputId": "ef89fd93-ea50-420d-94da-d470e51cf6af"
      },
      "execution_count": 12,
      "outputs": [
        {
          "output_type": "stream",
          "name": "stdout",
          "text": [
            "Enter number of processes: 3\n",
            "Enter Process ID: 1\n",
            "Enter Arrival Time for Process 1: 0\n",
            "Enter Burst Time for Process 1: 8\n",
            "Enter Process ID: 2\n",
            "Enter Arrival Time for Process 2: 0\n",
            "Enter Burst Time for Process 2: 4\n",
            "Enter Process ID: 3\n",
            "Enter Arrival Time for Process 3: 1\n",
            "Enter Burst Time for Process 3: 5\n",
            "Average Turnaround Time: 9.666666666666666\n",
            "Average Waiting Time: 4.0\n",
            "Sequence of Process: [2, 2, 2, 2, 3, 3, 3, 3, 3, 1, 1, 1, 1, 1, 1, 1, 1]\n"
          ]
        }
      ]
    },
    {
      "cell_type": "markdown",
      "source": [
        "36.\tImplement Round Robin CPU scheduling algorithm."
      ],
      "metadata": {
        "id": "vVLb_N0caboN"
      }
    },
    {
      "cell_type": "code",
      "execution_count": null,
      "metadata": {
        "id": "BPoegXStOP_i",
        "outputId": "add89b93-a342-46ef-c424-4071d1033827",
        "colab": {
          "base_uri": "https://localhost:8080/"
        }
      },
      "outputs": [
        {
          "output_type": "stream",
          "name": "stdout",
          "text": [
            "Processes  Burst Time  Wait Time  Turnaround Time\n",
            "   P1\t\t7\t  11\t\t 18\n",
            "   P2\t\t5\t  14\t\t 19\n",
            "   P3\t\t3\t  8\t\t 11\n",
            "   P4\t\t1\t  11\t\t 12\n",
            "   P5\t\t2\t  12\t\t 14\n",
            "   P6\t\t1\t  14\t\t 15\n",
            "Average Waiting Time = 11.67\n",
            "Average Turnaround Time = 14.83\n"
          ]
        }
      ],
      "source": [
        "processes = [1, 2, 3, 4, 5, 6]\n",
        "burst_time = [7, 5, 3, 1, 2, 1]\n",
        "num = len(processes)\n",
        "quantum = 4\n",
        "\n",
        "def waiting_time(processes, num, burst_time, wait_time, quantum):\n",
        "  remaining_burst_time = [0] *num\n",
        "  for i in range(num):\n",
        "    remaining_burst_time[i] = burst_time[i]\n",
        "  current_time = 0\n",
        "  while(1):\n",
        "    completed = True\n",
        "    for i in range(num):\n",
        "      if(remaining_burst_time[i] > 0):\n",
        "        completed = False\n",
        "        if(remaining_burst_time[i] > quantum):\n",
        "          current_time += quantum\n",
        "          remaining_burst_time[i] -= quantum\n",
        "        else:\n",
        "          current_time = current_time + remaining_burst_time[i]\n",
        "          wait_time[i] = current_time - burst_time[i]\n",
        "          remaining_burst_time[i] = 0\n",
        "    if(completed == True):\n",
        "      break\n",
        "\n",
        "def turn_around_time(processes, num, burst_time, wait_time, turn_ar_time):\n",
        "  for i in range(num):\n",
        "    turn_ar_time[i] = burst_time[i] + wait_time[i]\n",
        "\n",
        "def average_time(processes, num, burst_time, quantum):\n",
        "  wait_time = [0] *num\n",
        "  turn_ar_time = [0] *num\n",
        "  total_wait_time = 0\n",
        "  total_turn_ar_time = 0\n",
        "\n",
        "  waiting_time(processes, num, burst_time, wait_time, quantum)\n",
        "  turn_around_time(processes, num, burst_time, wait_time, turn_ar_time)\n",
        "\n",
        "  print( \"Processes \" \" Burst Time \" + \" Wait Time \" + \" Turnaround Time\")\n",
        "  for i in range(num):\n",
        "    total_wait_time = total_wait_time + wait_time[i]\n",
        "    total_turn_ar_time = total_turn_ar_time + turn_ar_time[i]\n",
        "    print(\"   P\" + str(i + 1) + \"\\t\\t\" + str(burst_time[i]) + \"\\t  \" + str(wait_time[i]) + \"\\t\\t \" + str(turn_ar_time[i]))\n",
        "\n",
        "  print(\"Average Waiting Time = \" + str(round(total_wait_time / num,2)))\n",
        "  print(\"Average Turnaround Time = \" + str(round(total_turn_ar_time / num,2)))\n",
        "\n",
        "average_time(processes, num, burst_time, quantum)"
      ]
    },
    {
      "cell_type": "markdown",
      "source": [
        "37.\tImplement Best Fit Memory allocation policy."
      ],
      "metadata": {
        "id": "-CcXt1dMyaMd"
      }
    },
    {
      "cell_type": "code",
      "source": [
        "def best_fit(processes, memories):\n",
        "  memory_process = {memories[i]:0 for i in range(len(memories))}\n",
        "  for i in processes:\n",
        "    wastage = 3000\n",
        "    selected_memory = -1\n",
        "    for j in memories:\n",
        "      if i <= j and j-1 < wastage and memory_process[j] == 0:\n",
        "        wastage = j-1\n",
        "        selected_memory = j\n",
        "    if selected_memory != -1:\n",
        "      memory_process[selected_memory] = i\n",
        "  total_waste = 0\n",
        "  for i in memory_process:\n",
        "    total_waste += i - memory_process[i]\n",
        "    print(memory_process, total_waste)\n",
        "\n",
        "\n",
        "processes = [212, 417, 112, 426]\n",
        "memories = [100, 500, 200, 300, 600]\n",
        "best_fit(processes, memories)"
      ],
      "metadata": {
        "colab": {
          "base_uri": "https://localhost:8080/"
        },
        "id": "9Uebw0wRyZUQ",
        "outputId": "2d0a11c2-3ab5-45f8-92d6-36a795c76449"
      },
      "execution_count": 1,
      "outputs": [
        {
          "output_type": "stream",
          "name": "stdout",
          "text": [
            "{100: 0, 500: 417, 200: 112, 300: 212, 600: 426} 100\n",
            "{100: 0, 500: 417, 200: 112, 300: 212, 600: 426} 183\n",
            "{100: 0, 500: 417, 200: 112, 300: 212, 600: 426} 271\n",
            "{100: 0, 500: 417, 200: 112, 300: 212, 600: 426} 359\n",
            "{100: 0, 500: 417, 200: 112, 300: 212, 600: 426} 533\n"
          ]
        }
      ]
    },
    {
      "cell_type": "markdown",
      "source": [
        "38.\tImplement First Fit Memory allocation policy."
      ],
      "metadata": {
        "id": "h9YuVdiUy4LE"
      }
    },
    {
      "cell_type": "code",
      "source": [
        "def first_fit(processes, memories):\n",
        "  memory_process = {memories[i]:0 for i in range(len(memories))}\n",
        "  wastage = 0\n",
        "  for i in processes:\n",
        "    for j in memories:\n",
        "      if i <= j and memory_process[j] == 0:\n",
        "        memory_process[j] = i\n",
        "        break\n",
        "  for i in memory_process:\n",
        "    wastage += i - memory_process[i]\n",
        "    print(memory_process, wastage)\n",
        "\n",
        "\n",
        "processes = [212, 417, 112, 426]\n",
        "memories = [100, 500, 200, 300, 600]\n",
        "first_fit(processes, memories)"
      ],
      "metadata": {
        "colab": {
          "base_uri": "https://localhost:8080/"
        },
        "id": "or8ADRFXy7hz",
        "outputId": "15a547b7-8e5a-48e3-b969-f5dc29c77f88"
      },
      "execution_count": 2,
      "outputs": [
        {
          "output_type": "stream",
          "name": "stdout",
          "text": [
            "{100: 0, 500: 212, 200: 112, 300: 0, 600: 417} 100\n",
            "{100: 0, 500: 212, 200: 112, 300: 0, 600: 417} 388\n",
            "{100: 0, 500: 212, 200: 112, 300: 0, 600: 417} 476\n",
            "{100: 0, 500: 212, 200: 112, 300: 0, 600: 417} 776\n",
            "{100: 0, 500: 212, 200: 112, 300: 0, 600: 417} 959\n"
          ]
        }
      ]
    },
    {
      "cell_type": "markdown",
      "source": [
        "39.\tImplement Worst Fit Memory allocation policy."
      ],
      "metadata": {
        "id": "8Fw0OWiJzBl_"
      }
    },
    {
      "cell_type": "code",
      "source": [
        "def worst_fit(processes, memories):\n",
        "  memory_process = {memories[i]:0 for i in range(len(memories))}\n",
        "  for i in processes:\n",
        "    wastage = 0\n",
        "    selected_memory = -1\n",
        "    for j in memories:\n",
        "      if i <= j and j-1 > wastage and memory_process[j] == 0:\n",
        "        wastage = j-1\n",
        "        selected_memory = j\n",
        "    if selected_memory != -1:\n",
        "      memory_process[selected_memory] = i\n",
        "  total_waste = 0\n",
        "  for i in memory_process:\n",
        "    total_waste += i - memory_process[i]\n",
        "    print(memory_process, total_waste)\n",
        "\n",
        "\n",
        "processes = [212, 417, 112, 426]\n",
        "memories = [100, 500, 200, 300, 600]\n",
        "worst_fit(processes, memories)\n"
      ],
      "metadata": {
        "colab": {
          "base_uri": "https://localhost:8080/"
        },
        "id": "nyFuspcTzEgs",
        "outputId": "aaecdb19-c5a0-4d3f-c4f5-980fd369a86a"
      },
      "execution_count": 5,
      "outputs": [
        {
          "output_type": "stream",
          "name": "stdout",
          "text": [
            "{100: 0, 500: 417, 200: 0, 300: 112, 600: 212} 100\n",
            "{100: 0, 500: 417, 200: 0, 300: 112, 600: 212} 183\n",
            "{100: 0, 500: 417, 200: 0, 300: 112, 600: 212} 383\n",
            "{100: 0, 500: 417, 200: 0, 300: 112, 600: 212} 571\n",
            "{100: 0, 500: 417, 200: 0, 300: 112, 600: 212} 959\n"
          ]
        }
      ]
    },
    {
      "cell_type": "markdown",
      "source": [
        "40.\tImplement Producer -Consumer problem with Semaphore."
      ],
      "metadata": {
        "id": "11VCxIzQznKb"
      }
    },
    {
      "cell_type": "code",
      "source": [
        "!pip install semaphore"
      ],
      "metadata": {
        "colab": {
          "base_uri": "https://localhost:8080/"
        },
        "id": "BorQ6TlU_fqe",
        "outputId": "a6ce0560-aae7-40e4-e004-2e2a91973ad2"
      },
      "execution_count": 11,
      "outputs": [
        {
          "output_type": "stream",
          "name": "stdout",
          "text": [
            "Looking in indexes: https://pypi.org/simple, https://us-python.pkg.dev/colab-wheels/public/simple/\n",
            "Collecting semaphore\n",
            "  Downloading semaphore-0.4.65-py2.py3-none-manylinux1_x86_64.whl (19.7 MB)\n",
            "\u001b[K     |████████████████████████████████| 19.7 MB 237 kB/s \n",
            "\u001b[?25hCollecting milksnake>=0.1.2\n",
            "  Downloading milksnake-0.1.5-py2.py3-none-any.whl (9.6 kB)\n",
            "Requirement already satisfied: cffi>=1.6.0 in /usr/local/lib/python3.7/dist-packages (from milksnake>=0.1.2->semaphore) (1.15.0)\n",
            "Requirement already satisfied: pycparser in /usr/local/lib/python3.7/dist-packages (from cffi>=1.6.0->milksnake>=0.1.2->semaphore) (2.21)\n",
            "Installing collected packages: milksnake, semaphore\n",
            "Successfully installed milksnake-0.1.5 semaphore-0.4.65\n"
          ]
        }
      ]
    },
    {
      "cell_type": "code",
      "source": [
        "\n",
        "import random\n",
        "import threading\n",
        "import semaphore\n",
        "import time\n",
        "buffer = [None for _ in range(10)]\n",
        "mutex = Semaphore()\n",
        "empty = Semaphore(10)\n",
        "full = Semaphore(0)\n",
        "in_index = 0\n",
        "out_index = 0\n",
        "class Producer(threading.Thread):\n",
        "  def run(self):\n",
        "    n=0\n",
        "    global mutex, empty, full, in_index, out_index, buffer\n",
        "    while(n<10):\n",
        "      empty.acquire()\n",
        "      mutex.acquire()\n",
        "\n",
        "      item = random.randint(1,50)\n",
        "      buffer[in_index]=item\n",
        "      print(item,\"produced at \",in_index)\n",
        "      in_index = (in_index+1)%10\n",
        "\n",
        "      mutex.release()\n",
        "      full.release()\n",
        "      n+=1\n",
        "      time.sleep(random.uniform(0,2))\n",
        "\n",
        "class Consumer(Threading.Thread):\n",
        "  def run(self):\n",
        "    n=0\n",
        "    global mutex, empty, full, in_index, out_index, buffer\n",
        "    while(n<10):\n",
        "      full.acquire()\n",
        "      mutex.require()\n",
        "      item = buffer[out_index]\n",
        "      print(item,\"consumed at\", out_index)\n",
        "      out_index = (out_index+1)%10\n",
        "      mutex.release()\n",
        "      empty.release()\n",
        "      n+=1\n",
        "      time.sleep(random.uniform(0,2))\n",
        "pro = Producer()\n",
        "con = Consumer()\n",
        "\n",
        "pro.start()\n",
        "con.start()\n",
        "\n",
        "pro.join()\n",
        "con.join()\n"
      ],
      "metadata": {
        "colab": {
          "base_uri": "https://localhost:8080/",
          "height": 244
        },
        "id": "nAqglIwlzqmo",
        "outputId": "5795063f-5e0f-48c5-f90f-0d59d5421cc6"
      },
      "execution_count": 12,
      "outputs": [
        {
          "output_type": "error",
          "ename": "NameError",
          "evalue": "ignored",
          "traceback": [
            "\u001b[0;31m---------------------------------------------------------------------------\u001b[0m",
            "\u001b[0;31mNameError\u001b[0m                                 Traceback (most recent call last)",
            "\u001b[0;32m<ipython-input-12-33f5ffac5b26>\u001b[0m in \u001b[0;36m<module>\u001b[0;34m()\u001b[0m\n\u001b[1;32m      5\u001b[0m \u001b[0;32mimport\u001b[0m \u001b[0mtime\u001b[0m\u001b[0;34m\u001b[0m\u001b[0;34m\u001b[0m\u001b[0m\n\u001b[1;32m      6\u001b[0m \u001b[0mbuffer\u001b[0m \u001b[0;34m=\u001b[0m \u001b[0;34m[\u001b[0m\u001b[0;32mNone\u001b[0m \u001b[0;32mfor\u001b[0m \u001b[0m_\u001b[0m \u001b[0;32min\u001b[0m \u001b[0mrange\u001b[0m\u001b[0;34m(\u001b[0m\u001b[0;36m10\u001b[0m\u001b[0;34m)\u001b[0m\u001b[0;34m]\u001b[0m\u001b[0;34m\u001b[0m\u001b[0;34m\u001b[0m\u001b[0m\n\u001b[0;32m----> 7\u001b[0;31m \u001b[0mmutex\u001b[0m \u001b[0;34m=\u001b[0m \u001b[0mSemaphore\u001b[0m\u001b[0;34m(\u001b[0m\u001b[0;34m)\u001b[0m\u001b[0;34m\u001b[0m\u001b[0;34m\u001b[0m\u001b[0m\n\u001b[0m\u001b[1;32m      8\u001b[0m \u001b[0mempty\u001b[0m \u001b[0;34m=\u001b[0m \u001b[0mSemaphore\u001b[0m\u001b[0;34m(\u001b[0m\u001b[0;36m10\u001b[0m\u001b[0;34m)\u001b[0m\u001b[0;34m\u001b[0m\u001b[0;34m\u001b[0m\u001b[0m\n\u001b[1;32m      9\u001b[0m \u001b[0mfull\u001b[0m \u001b[0;34m=\u001b[0m \u001b[0mSemaphore\u001b[0m\u001b[0;34m(\u001b[0m\u001b[0;36m0\u001b[0m\u001b[0;34m)\u001b[0m\u001b[0;34m\u001b[0m\u001b[0;34m\u001b[0m\u001b[0m\n",
            "\u001b[0;31mNameError\u001b[0m: name 'Semaphore' is not defined"
          ]
        }
      ]
    },
    {
      "cell_type": "markdown",
      "source": [
        "41.\tImplement order scheduling in supply chain using Banker’s Algorithm"
      ],
      "metadata": {
        "id": "f92dI3Zr_8N9"
      }
    },
    {
      "cell_type": "code",
      "source": [
        "from numpy import Infinity\n",
        "\n",
        "\n",
        "def getinput():\n",
        "    resources = int(input('Enter the number of resources: '))\n",
        "    max = []\n",
        "    print('enter the max instances of each resources')\n",
        "    for i in range(97, 97+resources):\n",
        "        max.append(int(input(f'{chr(i)} = ')))\n",
        "    n = int(input('Enter the number of processes: '))\n",
        "    print('Enter the allocation matrix')\n",
        "    alloc = []\n",
        "    for i in range(n):\n",
        "        l = []\n",
        "        print(f'P[{i}] = ')\n",
        "        for i in range(97, 97+resources):\n",
        "            l.append(int(input(f'{chr(i)} = ')))\n",
        "        alloc.append(list(l))\n",
        "    print('Allocated =', alloc)\n",
        "    print('Enter the Max matrix')\n",
        "    MAX1 = []\n",
        "    for i in range(n):\n",
        "        l = []\n",
        "        print(f'P[{i}] = ')\n",
        "        for i in range(97, 97+resources):\n",
        "            l.append(int(input(f'{chr(i)} = ')))\n",
        "        MAX1.append(list(l))\n",
        "    print('MAx = ', MAX1)\n",
        "    avail = []\n",
        "    sum = [0]*resources\n",
        "    for i in range(n):\n",
        "        for j in range(resources):\n",
        "            sum[j] += alloc[i][j]\n",
        "    for i in range(resources):\n",
        "        avail.append(max[i]-sum[i])\n",
        "    return resources, n, max, alloc, MAX1, avail\n",
        "\n",
        "\n",
        "def need(alloc, max):\n",
        "    needed = []\n",
        "    for i in range(len(alloc)):\n",
        "        needed.append(max[i]-alloc[i])\n",
        "    return needed\n",
        "\n",
        "\n",
        "def check(need, avail):\n",
        "    k = 0\n",
        "    for i in range(len(need)):\n",
        "        if avail[i] - need[i] < 0:\n",
        "            k = 1\n",
        "            break\n",
        "    if k == 0:\n",
        "        return True\n",
        "    else:\n",
        "        return False\n",
        "\n",
        "\n",
        "def process(resources, n, alloc, MAX1, avail):\n",
        "    ans = []\n",
        "    for i in range(n):\n",
        "        for j in range(n):\n",
        "            needed = need(alloc[j], MAX1[j])\n",
        "            if check(needed, avail):\n",
        "                ans.append(j)\n",
        "                for k in range(resources):\n",
        "                    avail[k] += alloc[j][k]\n",
        "                    alloc[j][k] = 0\n",
        "                    MAX1[j][k] = Infinity\n",
        "\n",
        "    return ans\n",
        "\n",
        "\n",
        "resources, n, max, alloc, MAX1, avail = getinput()\n",
        "ans = process(resources, n, alloc, MAX1, avail)\n",
        "print('< ', end=' ')\n",
        "for i in range(len(ans)):\n",
        "    print(f'P{ans[i]} ,', end=' ')\n",
        "print('>')\n",
        "if len(ans) == n:\n",
        "    print('All processes are completed so the system is in safe state')\n",
        "else:\n",
        "    print('System is not in safe state')\n"
      ],
      "metadata": {
        "colab": {
          "base_uri": "https://localhost:8080/"
        },
        "id": "vDdBRZ5t_7Ce",
        "outputId": "361fafa7-5294-44bb-d4aa-f846eeb3d4c9"
      },
      "execution_count": 13,
      "outputs": [
        {
          "output_type": "stream",
          "name": "stdout",
          "text": [
            "Enter the number of resources: 3\n",
            "enter the max instances of each resources\n",
            "a = 10\n",
            "b = 7\n",
            "c = 7\n",
            "Enter the number of processes: 3\n",
            "Enter the allocation matrix\n",
            "P[0] = \n",
            "a = 3\n",
            "b = 2\n",
            "c = 1\n",
            "P[1] = \n",
            "a = 1\n",
            "b = 1\n",
            "c = 2\n",
            "P[2] = \n",
            "a = 4\n",
            "b = 1\n",
            "c = 2\n",
            "Allocated = [[3, 2, 1], [1, 1, 2], [4, 1, 2]]\n",
            "Enter the Max matrix\n",
            "P[0] = \n",
            "a = 4\n",
            "b = 4\n",
            "c = 4\n",
            "P[1] = \n",
            "a = 3\n",
            "b = 4\n",
            "c = 5\n",
            "P[2] = \n",
            "a = 5\n",
            "b = 2\n",
            "c = 4\n",
            "MAx =  [[4, 4, 4], [3, 4, 5], [5, 2, 4]]\n",
            "<  P2 , P0 , P1 , >\n",
            "All processes are completed so the system is in safe state\n"
          ]
        }
      ]
    },
    {
      "cell_type": "markdown",
      "source": [
        "42.\tImplement FIFO Disk Scheduling Algorithms."
      ],
      "metadata": {
        "id": "XPwKMp-DA8Bs"
      }
    },
    {
      "cell_type": "code",
      "source": [
        "def FCFS():\n",
        "  \n",
        "  head=int(input(\"Enter the starting position of head:\"))\n",
        "  print(\"Enter the reference string:\")\n",
        "  reference_str=list(map(int,input().split()))\n",
        "\n",
        "  seek_time=0\n",
        "  for i in range(len(reference_str)):\n",
        "    diff=abs(reference_str[i]-head)\n",
        "    seek_time+=diff\n",
        "    head=reference_str[i]\n",
        "  \n",
        "  print(\"The seek time is : \",seek_time*6)\n",
        " \n",
        "FCFS()\n"
      ],
      "metadata": {
        "colab": {
          "base_uri": "https://localhost:8080/",
          "height": 560
        },
        "id": "U754NToyBEII",
        "outputId": "58f0b78e-5fc9-4e17-f406-dc79c5c43be2"
      },
      "execution_count": 15,
      "outputs": [
        {
          "output_type": "error",
          "ename": "KeyboardInterrupt",
          "evalue": "ignored",
          "traceback": [
            "\u001b[0;31m---------------------------------------------------------------------------\u001b[0m",
            "\u001b[0;31mKeyboardInterrupt\u001b[0m                         Traceback (most recent call last)",
            "\u001b[0;32m/usr/local/lib/python3.7/dist-packages/ipykernel/kernelbase.py\u001b[0m in \u001b[0;36m_input_request\u001b[0;34m(self, prompt, ident, parent, password)\u001b[0m\n\u001b[1;32m    728\u001b[0m             \u001b[0;32mtry\u001b[0m\u001b[0;34m:\u001b[0m\u001b[0;34m\u001b[0m\u001b[0;34m\u001b[0m\u001b[0m\n\u001b[0;32m--> 729\u001b[0;31m                 \u001b[0mident\u001b[0m\u001b[0;34m,\u001b[0m \u001b[0mreply\u001b[0m \u001b[0;34m=\u001b[0m \u001b[0mself\u001b[0m\u001b[0;34m.\u001b[0m\u001b[0msession\u001b[0m\u001b[0;34m.\u001b[0m\u001b[0mrecv\u001b[0m\u001b[0;34m(\u001b[0m\u001b[0mself\u001b[0m\u001b[0;34m.\u001b[0m\u001b[0mstdin_socket\u001b[0m\u001b[0;34m,\u001b[0m \u001b[0;36m0\u001b[0m\u001b[0;34m)\u001b[0m\u001b[0;34m\u001b[0m\u001b[0;34m\u001b[0m\u001b[0m\n\u001b[0m\u001b[1;32m    730\u001b[0m             \u001b[0;32mexcept\u001b[0m \u001b[0mException\u001b[0m\u001b[0;34m:\u001b[0m\u001b[0;34m\u001b[0m\u001b[0;34m\u001b[0m\u001b[0m\n",
            "\u001b[0;32m/usr/local/lib/python3.7/dist-packages/jupyter_client/session.py\u001b[0m in \u001b[0;36mrecv\u001b[0;34m(self, socket, mode, content, copy)\u001b[0m\n\u001b[1;32m    802\u001b[0m         \u001b[0;32mtry\u001b[0m\u001b[0;34m:\u001b[0m\u001b[0;34m\u001b[0m\u001b[0;34m\u001b[0m\u001b[0m\n\u001b[0;32m--> 803\u001b[0;31m             \u001b[0mmsg_list\u001b[0m \u001b[0;34m=\u001b[0m \u001b[0msocket\u001b[0m\u001b[0;34m.\u001b[0m\u001b[0mrecv_multipart\u001b[0m\u001b[0;34m(\u001b[0m\u001b[0mmode\u001b[0m\u001b[0;34m,\u001b[0m \u001b[0mcopy\u001b[0m\u001b[0;34m=\u001b[0m\u001b[0mcopy\u001b[0m\u001b[0;34m)\u001b[0m\u001b[0;34m\u001b[0m\u001b[0;34m\u001b[0m\u001b[0m\n\u001b[0m\u001b[1;32m    804\u001b[0m         \u001b[0;32mexcept\u001b[0m \u001b[0mzmq\u001b[0m\u001b[0;34m.\u001b[0m\u001b[0mZMQError\u001b[0m \u001b[0;32mas\u001b[0m \u001b[0me\u001b[0m\u001b[0;34m:\u001b[0m\u001b[0;34m\u001b[0m\u001b[0;34m\u001b[0m\u001b[0m\n",
            "\u001b[0;32m/usr/local/lib/python3.7/dist-packages/zmq/sugar/socket.py\u001b[0m in \u001b[0;36mrecv_multipart\u001b[0;34m(self, flags, copy, track)\u001b[0m\n\u001b[1;32m    723\u001b[0m         \"\"\"\n\u001b[0;32m--> 724\u001b[0;31m         \u001b[0mparts\u001b[0m \u001b[0;34m=\u001b[0m \u001b[0;34m[\u001b[0m\u001b[0mself\u001b[0m\u001b[0;34m.\u001b[0m\u001b[0mrecv\u001b[0m\u001b[0;34m(\u001b[0m\u001b[0mflags\u001b[0m\u001b[0;34m,\u001b[0m \u001b[0mcopy\u001b[0m\u001b[0;34m=\u001b[0m\u001b[0mcopy\u001b[0m\u001b[0;34m,\u001b[0m \u001b[0mtrack\u001b[0m\u001b[0;34m=\u001b[0m\u001b[0mtrack\u001b[0m\u001b[0;34m)\u001b[0m\u001b[0;34m]\u001b[0m\u001b[0;34m\u001b[0m\u001b[0;34m\u001b[0m\u001b[0m\n\u001b[0m\u001b[1;32m    725\u001b[0m         \u001b[0;31m# have first part already, only loop while more to receive\u001b[0m\u001b[0;34m\u001b[0m\u001b[0;34m\u001b[0m\u001b[0;34m\u001b[0m\u001b[0m\n",
            "\u001b[0;32mzmq/backend/cython/socket.pyx\u001b[0m in \u001b[0;36mzmq.backend.cython.socket.Socket.recv\u001b[0;34m()\u001b[0m\n",
            "\u001b[0;32mzmq/backend/cython/socket.pyx\u001b[0m in \u001b[0;36mzmq.backend.cython.socket.Socket.recv\u001b[0;34m()\u001b[0m\n",
            "\u001b[0;32mzmq/backend/cython/socket.pyx\u001b[0m in \u001b[0;36mzmq.backend.cython.socket._recv_copy\u001b[0;34m()\u001b[0m\n",
            "\u001b[0;32m/usr/local/lib/python3.7/dist-packages/zmq/backend/cython/checkrc.pxd\u001b[0m in \u001b[0;36mzmq.backend.cython.checkrc._check_rc\u001b[0;34m()\u001b[0m\n",
            "\u001b[0;31mKeyboardInterrupt\u001b[0m: ",
            "\nDuring handling of the above exception, another exception occurred:\n",
            "\u001b[0;31mKeyboardInterrupt\u001b[0m                         Traceback (most recent call last)",
            "\u001b[0;32m<ipython-input-15-661a9e03ff1c>\u001b[0m in \u001b[0;36m<module>\u001b[0;34m()\u001b[0m\n\u001b[1;32m     13\u001b[0m   \u001b[0mprint\u001b[0m\u001b[0;34m(\u001b[0m\u001b[0;34m\"The seek time is : \"\u001b[0m\u001b[0;34m,\u001b[0m\u001b[0mseek_time\u001b[0m\u001b[0;34m*\u001b[0m\u001b[0;36m6\u001b[0m\u001b[0;34m)\u001b[0m\u001b[0;34m\u001b[0m\u001b[0;34m\u001b[0m\u001b[0m\n\u001b[1;32m     14\u001b[0m \u001b[0;34m\u001b[0m\u001b[0m\n\u001b[0;32m---> 15\u001b[0;31m \u001b[0mFCFS\u001b[0m\u001b[0;34m(\u001b[0m\u001b[0;34m)\u001b[0m\u001b[0;34m\u001b[0m\u001b[0;34m\u001b[0m\u001b[0m\n\u001b[0m",
            "\u001b[0;32m<ipython-input-15-661a9e03ff1c>\u001b[0m in \u001b[0;36mFCFS\u001b[0;34m()\u001b[0m\n\u001b[1;32m      1\u001b[0m \u001b[0;32mdef\u001b[0m \u001b[0mFCFS\u001b[0m\u001b[0;34m(\u001b[0m\u001b[0;34m)\u001b[0m\u001b[0;34m:\u001b[0m\u001b[0;34m\u001b[0m\u001b[0;34m\u001b[0m\u001b[0m\n\u001b[1;32m      2\u001b[0m \u001b[0;34m\u001b[0m\u001b[0m\n\u001b[0;32m----> 3\u001b[0;31m   \u001b[0mhead\u001b[0m\u001b[0;34m=\u001b[0m\u001b[0mint\u001b[0m\u001b[0;34m(\u001b[0m\u001b[0minput\u001b[0m\u001b[0;34m(\u001b[0m\u001b[0;34m\"Enter the starting position of head:\"\u001b[0m\u001b[0;34m)\u001b[0m\u001b[0;34m)\u001b[0m\u001b[0;34m\u001b[0m\u001b[0;34m\u001b[0m\u001b[0m\n\u001b[0m\u001b[1;32m      4\u001b[0m   \u001b[0mprint\u001b[0m\u001b[0;34m(\u001b[0m\u001b[0;34m\"Enter the reference string:\"\u001b[0m\u001b[0;34m)\u001b[0m\u001b[0;34m\u001b[0m\u001b[0;34m\u001b[0m\u001b[0m\n\u001b[1;32m      5\u001b[0m   \u001b[0mreference_str\u001b[0m\u001b[0;34m=\u001b[0m\u001b[0mlist\u001b[0m\u001b[0;34m(\u001b[0m\u001b[0mmap\u001b[0m\u001b[0;34m(\u001b[0m\u001b[0mint\u001b[0m\u001b[0;34m,\u001b[0m\u001b[0minput\u001b[0m\u001b[0;34m(\u001b[0m\u001b[0;34m)\u001b[0m\u001b[0;34m.\u001b[0m\u001b[0msplit\u001b[0m\u001b[0;34m(\u001b[0m\u001b[0;34m)\u001b[0m\u001b[0;34m)\u001b[0m\u001b[0;34m)\u001b[0m\u001b[0;34m\u001b[0m\u001b[0;34m\u001b[0m\u001b[0m\n",
            "\u001b[0;32m/usr/local/lib/python3.7/dist-packages/ipykernel/kernelbase.py\u001b[0m in \u001b[0;36mraw_input\u001b[0;34m(self, prompt)\u001b[0m\n\u001b[1;32m    702\u001b[0m             \u001b[0mself\u001b[0m\u001b[0;34m.\u001b[0m\u001b[0m_parent_ident\u001b[0m\u001b[0;34m,\u001b[0m\u001b[0;34m\u001b[0m\u001b[0;34m\u001b[0m\u001b[0m\n\u001b[1;32m    703\u001b[0m             \u001b[0mself\u001b[0m\u001b[0;34m.\u001b[0m\u001b[0m_parent_header\u001b[0m\u001b[0;34m,\u001b[0m\u001b[0;34m\u001b[0m\u001b[0;34m\u001b[0m\u001b[0m\n\u001b[0;32m--> 704\u001b[0;31m             \u001b[0mpassword\u001b[0m\u001b[0;34m=\u001b[0m\u001b[0;32mFalse\u001b[0m\u001b[0;34m,\u001b[0m\u001b[0;34m\u001b[0m\u001b[0;34m\u001b[0m\u001b[0m\n\u001b[0m\u001b[1;32m    705\u001b[0m         )\n\u001b[1;32m    706\u001b[0m \u001b[0;34m\u001b[0m\u001b[0m\n",
            "\u001b[0;32m/usr/local/lib/python3.7/dist-packages/ipykernel/kernelbase.py\u001b[0m in \u001b[0;36m_input_request\u001b[0;34m(self, prompt, ident, parent, password)\u001b[0m\n\u001b[1;32m    732\u001b[0m             \u001b[0;32mexcept\u001b[0m \u001b[0mKeyboardInterrupt\u001b[0m\u001b[0;34m:\u001b[0m\u001b[0;34m\u001b[0m\u001b[0;34m\u001b[0m\u001b[0m\n\u001b[1;32m    733\u001b[0m                 \u001b[0;31m# re-raise KeyboardInterrupt, to truncate traceback\u001b[0m\u001b[0;34m\u001b[0m\u001b[0;34m\u001b[0m\u001b[0;34m\u001b[0m\u001b[0m\n\u001b[0;32m--> 734\u001b[0;31m                 \u001b[0;32mraise\u001b[0m \u001b[0mKeyboardInterrupt\u001b[0m\u001b[0;34m\u001b[0m\u001b[0;34m\u001b[0m\u001b[0m\n\u001b[0m\u001b[1;32m    735\u001b[0m             \u001b[0;32melse\u001b[0m\u001b[0;34m:\u001b[0m\u001b[0;34m\u001b[0m\u001b[0;34m\u001b[0m\u001b[0m\n\u001b[1;32m    736\u001b[0m                 \u001b[0;32mbreak\u001b[0m\u001b[0;34m\u001b[0m\u001b[0;34m\u001b[0m\u001b[0m\n",
            "\u001b[0;31mKeyboardInterrupt\u001b[0m: "
          ]
        }
      ]
    },
    {
      "cell_type": "markdown",
      "source": [
        "43.\tImplement SSTF Disk Scheduling Algorithms"
      ],
      "metadata": {
        "id": "Cfzl4M0_B5FP"
      }
    },
    {
      "cell_type": "code",
      "source": [
        "refrence_string = [176, 79, 34, 60, 92, 11, 41, 114]\n",
        "head = 50\n",
        "seek_time = 0\n",
        "n = len(refrence_string)\n",
        "for i in range(n):\n",
        "    for j in range(i+1, n):\n",
        "        if (abs(refrence_string[j]-50) < abs(refrence_string[i]-50)):\n",
        "            temp = refrence_string[i]\n",
        "            refrence_string[i] = refrence_string[j]\n",
        "            refrence_string[j] = temp\n",
        "for i in range(n):\n",
        "    if refrence_string[i] > head:\n",
        "        seek_time = seek_time+(refrence_string[i]-head)\n",
        "    else:\n",
        "        seek_time = seek_time+(head-refrence_string[i])\n",
        "    head = refrence_string[i]\n",
        "print(\"Seek Time: \",seek_time)\n",
        "\n"
      ],
      "metadata": {
        "colab": {
          "base_uri": "https://localhost:8080/"
        },
        "id": "Q_KAE63aByFd",
        "outputId": "1e090558-6e4e-41cc-914d-21f5a61c6a12"
      },
      "execution_count": 16,
      "outputs": [
        {
          "output_type": "stream",
          "name": "stdout",
          "text": [
            "Seek Time:  332\n"
          ]
        }
      ]
    },
    {
      "cell_type": "markdown",
      "source": [
        "44.\tImplement SCAN Disk Scheduling Algorithms. "
      ],
      "metadata": {
        "id": "ai4Y2YOJEt3P"
      }
    },
    {
      "cell_type": "code",
      "source": [
        "def scan(refrence_string, head):\n",
        "    seek_time = 0\n",
        "    left = [0]\n",
        "    right = []\n",
        "    for i in range(len(refrence_string)):\n",
        "        if refrence_string[i] > head:\n",
        "            right.append(refrence_string[i])\n",
        "        else:\n",
        "            left.append(refrence_string[i])\n",
        "    left.sort(reverse=True)\n",
        "    right.sort()\n",
        "    for i in left:\n",
        "        seek_time = seek_time+(head-i)\n",
        "        head = i\n",
        "    for i in right:\n",
        "        seek_time = seek_time+(i-head)\n",
        "        head = i\n",
        "    print(\"seek time : \",seek_time)\n",
        "refrence_string = [176, 79, 34, 60, 92, 11, 41, 114]\n",
        "head = 50\n",
        "direction = 'left'\n",
        "scan(refrence_string, head)\n"
      ],
      "metadata": {
        "colab": {
          "base_uri": "https://localhost:8080/"
        },
        "id": "mHo6oKi2CbXR",
        "outputId": "9d26885d-962e-4c1c-84d5-747b502cba94"
      },
      "execution_count": 18,
      "outputs": [
        {
          "output_type": "stream",
          "name": "stdout",
          "text": [
            "seek time :  226\n"
          ]
        }
      ]
    },
    {
      "cell_type": "markdown",
      "source": [
        "45.\tImplement C-SCAN Disk Scheduling Algorithms. "
      ],
      "metadata": {
        "id": "wRaorllWFF9q"
      }
    },
    {
      "cell_type": "code",
      "source": [
        "refrence_string = [176, 79, 34, 60, 92, 11, 41, 114]\n",
        "head = 50\n",
        "seek_time = 0\n",
        "left = [0]\n",
        "right = [199]\n",
        "for i in range(len(refrence_string)):\n",
        "    if refrence_string[i] > head:\n",
        "        right.append(refrence_string[i])\n",
        "    else:\n",
        "        left.append(refrence_string[i])\n",
        "left.sort()\n",
        "right.sort()\n",
        "for i in right:\n",
        "    seek_time = seek_time+(i-head)\n",
        "    head = i\n",
        "for i in left:\n",
        "    seek_time = seek_time+abs((head-i))\n",
        "    head = i\n",
        "print(\"Seek Time: \", seek_time)"
      ],
      "metadata": {
        "colab": {
          "base_uri": "https://localhost:8080/"
        },
        "id": "zG2yRJRfFJl1",
        "outputId": "e794df59-9995-421a-e0f5-85edbbdc60a0"
      },
      "execution_count": 19,
      "outputs": [
        {
          "output_type": "stream",
          "name": "stdout",
          "text": [
            "Seek Time:  389\n"
          ]
        }
      ]
    },
    {
      "cell_type": "markdown",
      "source": [
        "46.\tImplement Look Disk Scheduling Algorithms. "
      ],
      "metadata": {
        "id": "YpEIGJyLFO3n"
      }
    },
    {
      "cell_type": "code",
      "source": [
        "size = 8\n",
        "disk_size = 200\n",
        "def LOOK(arr, head, direction):\n",
        "    seek_count = 0\n",
        "    distance = 0\n",
        "    cur_track = 0\n",
        "    left = []\n",
        "    right = []\n",
        "    seek_sequence = []\n",
        "    for i in range(size):\n",
        "        if (arr[i] < head):\n",
        "            left.append(arr[i])\n",
        "        if (arr[i] > head):\n",
        "            right.append(arr[i])\n",
        "    left.sort()\n",
        "    right.sort()\n",
        "    run = 2\n",
        "    while (run):\n",
        "        if (direction == \"left\"):\n",
        "            for i in range(len(left) - 1, -1, -1):\n",
        "                cur_track = left[i]\n",
        "                seek_sequence.append(cur_track)\n",
        "                distance = abs(cur_track - head)\n",
        "                seek_count += distance\n",
        "                head = cur_track\n",
        "            direction = \"right\"\n",
        "        elif (direction == \"right\"):\n",
        "            for i in range(len(right)):\n",
        "                cur_track = right[i]\n",
        "                seek_sequence.append(cur_track)\n",
        "                distance = abs(cur_track - head)\n",
        "                seek_count += distance\n",
        "                head = cur_track\n",
        "            direction = \"left\"\n",
        "        run -= 1\n",
        "    print(\"Seek Time: \",seek_count)\n",
        "arr = [176, 79, 34, 60, 92, 11, 41, 114]\n",
        "head = 50\n",
        "direction = \"right\"\n",
        "LOOK(arr, head, direction)\n"
      ],
      "metadata": {
        "colab": {
          "base_uri": "https://localhost:8080/"
        },
        "id": "mq7Dlxq8FRu0",
        "outputId": "69d50012-bcfc-4d94-9557-e6713b9f6096"
      },
      "execution_count": 20,
      "outputs": [
        {
          "output_type": "stream",
          "name": "stdout",
          "text": [
            "Seek Time:  291\n"
          ]
        }
      ]
    },
    {
      "cell_type": "markdown",
      "source": [
        "47.\tImplement C-Look Disk Scheduling Algorithms. "
      ],
      "metadata": {
        "id": "lQtPgfqRFcv4"
      }
    },
    {
      "cell_type": "code",
      "source": [
        "size = 8\n",
        "disk_size = 200\n",
        "def CLOOK(arr, head):\n",
        "    seek_count = 0\n",
        "    distance = 0\n",
        "    cur_track = 0\n",
        "    left = []\n",
        "    right = []\n",
        "    seek_sequence = []\n",
        "    for i in range(size):\n",
        "        if (arr[i] < head):\n",
        "            left.append(arr[i])\n",
        "        if (arr[i] > head):\n",
        "            right.append(arr[i])\n",
        "    left.sort()\n",
        "    right.sort()\n",
        "    for i in range(len(right)):\n",
        "        cur_track = right[i]\n",
        "        seek_sequence.append(cur_track)\n",
        "        distance = abs(cur_track - head)\n",
        "        seek_count += distance\n",
        "        head = cur_track\n",
        "    seek_count += abs(head - left[0])\n",
        "    head = left[0]\n",
        "    for i in range(len(left)):\n",
        "        cur_track = left[i]\n",
        "        seek_sequence.append(cur_track)\n",
        "        distance = abs(cur_track - head)\n",
        "        seek_count += distance\n",
        "        head = cur_track\n",
        "    print(\"Seek Time: \",seek_count)\n",
        "arr = [176, 79, 34, 60, 92, 11, 41, 114]\n",
        "head = 50\n",
        "CLOOK(arr, head)\n"
      ],
      "metadata": {
        "colab": {
          "base_uri": "https://localhost:8080/"
        },
        "id": "g1tx__E5FfQk",
        "outputId": "a2d91bdf-2117-4901-9e47-497d5ea2f264"
      },
      "execution_count": 21,
      "outputs": [
        {
          "output_type": "stream",
          "name": "stdout",
          "text": [
            "Seek Time:  321\n"
          ]
        }
      ]
    }
  ]
}